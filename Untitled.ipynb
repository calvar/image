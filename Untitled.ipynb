{
 "cells": [
  {
   "cell_type": "markdown",
   "id": "a3ba87e7",
   "metadata": {},
   "source": [
    "https://pytorch.org/tutorials/beginner/introyt/trainingyt.html <br>\n",
    "Instalar: torch, torchvision, tensorboard, matplotlib"
   ]
  },
  {
   "cell_type": "code",
   "execution_count": 1,
   "id": "6c27b783",
   "metadata": {},
   "outputs": [],
   "source": [
    "import numpy as np\n",
    "import matplotlib.pyplot as plt\n",
    "from datetime import datetime\n",
    "\n",
    "import torch\n",
    "import torchvision\n",
    "from torchvision.transforms import Compose, Normalize, ToTensor\n",
    "from torchvision.datasets import FashionMNIST\n",
    "from torch.utils.data import DataLoader\n",
    "from torch.utils.tensorboard import SummaryWriter\n",
    "\n",
    "import torch.nn as nn\n",
    "import torch.nn.functional as F"
   ]
  },
  {
   "cell_type": "code",
   "execution_count": 2,
   "id": "c033fa73",
   "metadata": {},
   "outputs": [
    {
     "name": "stdout",
     "output_type": "stream",
     "text": [
      "Using cuda device\n"
     ]
    }
   ],
   "source": [
    "device = 'cuda' if torch.cuda.is_available() else 'cpu'\n",
    "print(f\"Using {device} device\")"
   ]
  },
  {
   "cell_type": "code",
   "execution_count": 3,
   "id": "a94aa8db",
   "metadata": {},
   "outputs": [],
   "source": [
    "#torch.multiprocessing.set_sharing_strategy('file_system')"
   ]
  },
  {
   "cell_type": "code",
   "execution_count": 4,
   "id": "d9de4485",
   "metadata": {},
   "outputs": [],
   "source": [
    "#Define a transform object that takes the data to pytorch tensor form and normalizes it\n",
    "transform = Compose( [ToTensor(), Normalize((0.5,),(0.5,))] );"
   ]
  },
  {
   "cell_type": "code",
   "execution_count": 5,
   "id": "72d8135a",
   "metadata": {},
   "outputs": [
    {
     "name": "stdout",
     "output_type": "stream",
     "text": [
      "Downloading http://fashion-mnist.s3-website.eu-central-1.amazonaws.com/train-images-idx3-ubyte.gz\n",
      "Downloading http://fashion-mnist.s3-website.eu-central-1.amazonaws.com/train-images-idx3-ubyte.gz to ./data/FashionMNIST/raw/train-images-idx3-ubyte.gz\n"
     ]
    },
    {
     "name": "stderr",
     "output_type": "stream",
     "text": [
      "100.0%\n"
     ]
    },
    {
     "name": "stdout",
     "output_type": "stream",
     "text": [
      "Extracting ./data/FashionMNIST/raw/train-images-idx3-ubyte.gz to ./data/FashionMNIST/raw\n",
      "\n",
      "Downloading http://fashion-mnist.s3-website.eu-central-1.amazonaws.com/train-labels-idx1-ubyte.gz\n",
      "Downloading http://fashion-mnist.s3-website.eu-central-1.amazonaws.com/train-labels-idx1-ubyte.gz to ./data/FashionMNIST/raw/train-labels-idx1-ubyte.gz\n"
     ]
    },
    {
     "name": "stderr",
     "output_type": "stream",
     "text": [
      "100.0%\n"
     ]
    },
    {
     "name": "stdout",
     "output_type": "stream",
     "text": [
      "Extracting ./data/FashionMNIST/raw/train-labels-idx1-ubyte.gz to ./data/FashionMNIST/raw\n",
      "\n",
      "Downloading http://fashion-mnist.s3-website.eu-central-1.amazonaws.com/t10k-images-idx3-ubyte.gz\n",
      "Downloading http://fashion-mnist.s3-website.eu-central-1.amazonaws.com/t10k-images-idx3-ubyte.gz to ./data/FashionMNIST/raw/t10k-images-idx3-ubyte.gz\n"
     ]
    },
    {
     "name": "stderr",
     "output_type": "stream",
     "text": [
      "100.0%\n"
     ]
    },
    {
     "name": "stdout",
     "output_type": "stream",
     "text": [
      "Extracting ./data/FashionMNIST/raw/t10k-images-idx3-ubyte.gz to ./data/FashionMNIST/raw\n",
      "\n",
      "Downloading http://fashion-mnist.s3-website.eu-central-1.amazonaws.com/t10k-labels-idx1-ubyte.gz\n",
      "Downloading http://fashion-mnist.s3-website.eu-central-1.amazonaws.com/t10k-labels-idx1-ubyte.gz to ./data/FashionMNIST/raw/t10k-labels-idx1-ubyte.gz\n"
     ]
    },
    {
     "name": "stderr",
     "output_type": "stream",
     "text": [
      "\r",
      "100.0%"
     ]
    },
    {
     "name": "stdout",
     "output_type": "stream",
     "text": [
      "Extracting ./data/FashionMNIST/raw/t10k-labels-idx1-ubyte.gz to ./data/FashionMNIST/raw\n",
      "\n"
     ]
    },
    {
     "name": "stderr",
     "output_type": "stream",
     "text": [
      "\n"
     ]
    }
   ],
   "source": [
    "#Get the fashion mnist set of images, and create the train and test data sets\n",
    "training_set = FashionMNIST('./data', train=True, transform=transform, download=True);\n",
    "validation_set = FashionMNIST('./data', train=False, transform=transform, download=True);"
   ]
  },
  {
   "cell_type": "code",
   "execution_count": 6,
   "id": "3ce26af5",
   "metadata": {},
   "outputs": [],
   "source": [
    "#Prepare batches that update at every epoch for training. Use multiprocessing\n",
    "training_loader = DataLoader(training_set, batch_size=4, shuffle=True, num_workers=2);\n",
    "validation_loader = DataLoader(validation_set, batch_size=4, shuffle=False, num_workers=2);"
   ]
  },
  {
   "cell_type": "code",
   "execution_count": 7,
   "id": "5262c667",
   "metadata": {},
   "outputs": [],
   "source": [
    "#Define class labels\n",
    "classes = ('T-shirt/top', 'Trouser', 'Pullover', 'Dress', 'Coat', 'Sandal', 'Shirt', 'Sneaker', 'Bag', 'Ankle Boot');"
   ]
  },
  {
   "cell_type": "code",
   "execution_count": 8,
   "id": "5c6ef745",
   "metadata": {},
   "outputs": [
    {
     "name": "stdout",
     "output_type": "stream",
     "text": [
      "Training set has 60000 instances\n",
      "Validation set has 10000 instances\n"
     ]
    }
   ],
   "source": [
    "#Report split sizes\n",
    "print('Training set has {} instances'.format(len(training_set)));\n",
    "print('Validation set has {} instances'.format(len(validation_set)));"
   ]
  },
  {
   "cell_type": "markdown",
   "id": "68c49fb6",
   "metadata": {},
   "source": [
    "## Visualization"
   ]
  },
  {
   "cell_type": "code",
   "execution_count": 9,
   "id": "7dbeb96d",
   "metadata": {},
   "outputs": [],
   "source": [
    "#Helper function for inline image display\n",
    "def matplotlib_imshow(img, one_channel=False):\n",
    "    if one_channel:\n",
    "        img = img.mean(dim=0)\n",
    "    img = img / 2 + 0.5\n",
    "    npimg = img.numpy()\n",
    "    if one_channel:\n",
    "        plt.imshow(npimg, cmap=\"Greys\")\n",
    "    else:\n",
    "        plt.imshow(np.transpose(npimg, (1,2,0)))"
   ]
  },
  {
   "cell_type": "code",
   "execution_count": 10,
   "id": "5a3a0e22",
   "metadata": {},
   "outputs": [],
   "source": [
    "#Create an iterator to go through the training data\n",
    "dataiter = iter(training_loader);\n",
    "#Take the next minibatch of data\n",
    "images, labels = dataiter.next(); "
   ]
  },
  {
   "cell_type": "code",
   "execution_count": 11,
   "id": "a8c6d30d",
   "metadata": {},
   "outputs": [
    {
     "name": "stdout",
     "output_type": "stream",
     "text": [
      "Bag Shirt Coat Shirt\n"
     ]
    },
    {
     "data": {
      "image/png": "[encoded data removed]",
      "text/plain": [
       "<Figure size 640x480 with 1 Axes>"
      ]
     },
     "metadata": {},
     "output_type": "display_data"
    }
   ],
   "source": [
    "#Create a grid from the images and show them\n",
    "img_grid = torchvision.utils.make_grid(images);\n",
    "matplotlib_imshow(img_grid, one_channel=True);\n",
    "print(' '.join(classes[labels[j]] for j in range(4)));"
   ]
  },
  {
   "cell_type": "markdown",
   "id": "2cdd786c",
   "metadata": {},
   "source": [
    "## The model"
   ]
  },
  {
   "cell_type": "code",
   "execution_count": 12,
   "id": "8c8a12b8",
   "metadata": {},
   "outputs": [],
   "source": [
    "#pytorch models inherit from torch.nn.Module\n",
    "class GarmentClassifier(nn.Module):\n",
    "    def __init__(self):\n",
    "        super(GarmentClassifier, self).__init__()\n",
    "        self.conv1 = nn.Conv2d(1, 6, 5) #Add a convolution layer thet resives a single layer as imput (grayscale), uses 6 filters on it, and each filter has 5x5 size\n",
    "        self.pool = nn.MaxPool2d(2,2) #Pooling layer. Operation to get the max value over 2x2 (stride 2) sections the filter and reduce the number of features\n",
    "        self.conv2 = nn.Conv2d(6, 16, 5) #Second convolution layer (6 chanel imput, from the 6 filters of previous layer, 16 filters, and 5x5 filter size)\n",
    "        self.fc1 = nn.Linear(16*4*4, 120) #1st linear layer to classify the compressed features (why is imput 16*4*4?)\n",
    "        self.fc2 = nn.Linear(120, 84) #2nd linear layer\n",
    "        self.fc3 = nn.Linear(84, 10) #3rd linear layer. output is size 10 because there are 10 classes\n",
    "        \n",
    "    # Forward passing of the data\n",
    "    def forward(self, x):\n",
    "        x = self.pool(F.relu(self.conv1(x))) # pass x input to conv layer 1 and apply relu to the result, then do pooling to reduce number of features?\n",
    "        x = self.pool(F.relu(self.conv2(x))) # then do the same using conv layer 2?\n",
    "        x = x.view(-1, 16*4*4) # flatten x from 2d to 1d??\n",
    "        x = F.relu(self.fc1(x)) #Apply relu to output of linear layer 1\n",
    "        x = F.relu(self.fc2(x)) #Apply relu to output of linear layer 2\n",
    "        x = self.fc3(x) #Pass output through layer 3 and get final result\n",
    "        return x\n"
   ]
  },
  {
   "cell_type": "code",
   "execution_count": 13,
   "id": "fcbca866",
   "metadata": {},
   "outputs": [],
   "source": [
    "model = GarmentClassifier().to(device)"
   ]
  },
  {
   "cell_type": "markdown",
   "id": "fd9f29b0",
   "metadata": {},
   "source": [
    "## Loss function"
   ]
  },
  {
   "cell_type": "code",
   "execution_count": 14,
   "id": "d70428dc",
   "metadata": {},
   "outputs": [],
   "source": [
    "## use the log loss as cost function\n",
    "loss_fn = nn.CrossEntropyLoss()"
   ]
  },
  {
   "cell_type": "code",
   "execution_count": 15,
   "id": "8506f710",
   "metadata": {},
   "outputs": [
    {
     "name": "stdout",
     "output_type": "stream",
     "text": [
      "tensor([[0.6669, 0.4861, 0.2850, 0.5124, 0.6673, 0.6141, 0.5433, 0.0650, 0.7657,\n",
      "         0.4428],\n",
      "        [0.6528, 0.3303, 0.9764, 0.3992, 0.2127, 0.0686, 0.4946, 0.7535, 0.8515,\n",
      "         0.6587],\n",
      "        [0.2078, 0.8101, 0.2161, 0.3659, 0.7789, 0.1699, 0.0241, 0.2891, 0.9297,\n",
      "         0.2692],\n",
      "        [0.4218, 0.7481, 0.6697, 0.7421, 0.1357, 0.8455, 0.6558, 0.5413, 0.5101,\n",
      "         0.9770]])\n",
      "tensor([1, 5, 3, 7])\n",
      "Total loss for this batxh: 2.4874510765075684\n"
     ]
    }
   ],
   "source": [
    "##Test the loss function##\n",
    "#Pass data in batches of 4\n",
    "#Returns 10 lists of 4 random numbers between 0 and 1 as a 4x10 tensor, to test confidence on each of the 10 classes\n",
    "dummy_outputs = torch.rand(4, 10)\n",
    "# Represents the correct class among the possible 10\n",
    "dummy_labels = torch.tensor([1, 5, 3, 7])\n",
    "\n",
    "print(dummy_outputs)\n",
    "print(dummy_labels)\n",
    "\n",
    "loss = loss_fn(dummy_outputs, dummy_labels)\n",
    "print('Total loss for this batxh: {}'.format(loss.item()))"
   ]
  },
  {
   "cell_type": "markdown",
   "id": "855b5e0a",
   "metadata": {},
   "source": [
    "## Optimizer"
   ]
  },
  {
   "cell_type": "code",
   "execution_count": 16,
   "id": "791a1ebe",
   "metadata": {},
   "outputs": [],
   "source": [
    "#Stochastic gradient descent optimizer\n",
    "optimizer = torch.optim.SGD(model.parameters(), lr=0.001, momentum=0.9)"
   ]
  },
  {
   "cell_type": "markdown",
   "id": "2c792a7b",
   "metadata": {},
   "source": [
    "## Training loop\n",
    "- Get a batch of data from the Data Loader\n",
    "- Zero the optimizer's gradients\n",
    "- Gets predictions from the model for an imput batch\n",
    "- Computes the loss function for the prediction\n",
    "- Adjusts the model's weights with gradient descent\n",
    "- Reports the loss for every 1000 batches\n",
    "- Reports the average per-batch loss for the last 1000 batches for comparison to a validation run"
   ]
  },
  {
   "cell_type": "code",
   "execution_count": 20,
   "id": "fb14913d",
   "metadata": {},
   "outputs": [],
   "source": [
    "def train_one_epoch(epoch_index, tb_writer):\n",
    "    running_loss = 0\n",
    "    last_loss = 0\n",
    "    \n",
    "    #Use an enumeration istead of an iterator to track the batch index and do reporting\n",
    "    for i, data in enumerate(training_loader):\n",
    "        #training instances are input + label pairs\n",
    "        inputs, labels = data\n",
    "        inputs, labels = inputs.to(device), labels.to(device)\n",
    "        \n",
    "        #zero the gradients\n",
    "        optimizer.zero_grad()\n",
    "        \n",
    "        #make predictions fo this batch\n",
    "        outputs = model(inputs)\n",
    "        \n",
    "        #compute loss and its gradient\n",
    "        loss = loss_fn(outputs, labels)\n",
    "        loss.backward()\n",
    "        \n",
    "        #adjust the weights\n",
    "        optimizer.step()\n",
    "        \n",
    "        #gather data and report\n",
    "        running_loss += loss.item()\n",
    "        if i % 1000 == 999:\n",
    "            last_loss = running_loss / 1000 #loss per batch\n",
    "            print(' batch {} loss: {}'.format(i+1, last_loss))\n",
    "            tb_x = epoch_index * len(training_loader) + i + 1\n",
    "            tb_writer.add_scalar('Loss/train', last_loss, tb_x)\n",
    "            running_loss = 0\n",
    "            \n",
    "    return last_loss"
   ]
  },
  {
   "cell_type": "markdown",
   "id": "4e50fda8",
   "metadata": {},
   "source": [
    "## Main loop\n",
    "Before training an epoch there are a couple of things to do:\n",
    "- Validate by checking the relative loss on a set of validation data and report it\n",
    "- Save a copy of the model\n",
    "\n",
    "We use TensorBoard to do the reporting."
   ]
  },
  {
   "cell_type": "code",
   "execution_count": 21,
   "id": "5f6d2f50",
   "metadata": {},
   "outputs": [],
   "source": [
    "timestamp = datetime.now().strftime('%Y%m%d_%H%M%S')\n",
    "writer = SummaryWriter('runs/fashion_trainer_{}'.format(timestamp))\n",
    "epoch_number = 0"
   ]
  },
  {
   "cell_type": "code",
   "execution_count": 23,
   "id": "6480a378",
   "metadata": {},
   "outputs": [
    {
     "name": "stdout",
     "output_type": "stream",
     "text": [
      "EPOCH 1\n",
      " batch 1000 loss: 0.41282334006595195\n",
      " batch 2000 loss: 0.41481274314859184\n",
      " batch 3000 loss: 0.3759617363713624\n",
      " batch 4000 loss: 0.39644522705033886\n",
      " batch 5000 loss: 0.3848450304780854\n",
      " batch 6000 loss: 0.3923068636279495\n",
      " batch 7000 loss: 0.38416296596697064\n",
      " batch 8000 loss: 0.373133598024433\n",
      " batch 9000 loss: 0.3842620130462456\n",
      " batch 10000 loss: 0.37001189577113835\n",
      " batch 11000 loss: 0.37540785296307877\n",
      " batch 12000 loss: 0.37083178940918876\n",
      " batch 13000 loss: 0.3509974839552888\n",
      " batch 14000 loss: 0.3624207211101602\n",
      " batch 15000 loss: 0.3619138792199119\n",
      "LOSS train 0.3619138792199119 valid 0.3697698712348938\n",
      "EPOCH 2\n",
      " batch 1000 loss: 0.3574868578981841\n",
      " batch 2000 loss: 0.3275362235512002\n",
      " batch 3000 loss: 0.3232526590783964\n",
      " batch 4000 loss: 0.3359705314456951\n",
      " batch 5000 loss: 0.3521081158304296\n",
      " batch 6000 loss: 0.34864866882107165\n",
      " batch 7000 loss: 0.3191806119563553\n",
      " batch 8000 loss: 0.3241248514439503\n",
      " batch 9000 loss: 0.3071584889641963\n",
      " batch 10000 loss: 0.3163393999084583\n",
      " batch 11000 loss: 0.32349962480092653\n",
      " batch 12000 loss: 0.3155585376047061\n",
      " batch 13000 loss: 0.32762964354098223\n",
      " batch 14000 loss: 0.3306849645425973\n",
      " batch 15000 loss: 0.3187899070154872\n",
      "LOSS train 0.3187899070154872 valid 0.34796568751335144\n",
      "EPOCH 3\n",
      " batch 1000 loss: 0.3155871006935376\n",
      " batch 2000 loss: 0.29934744375738953\n",
      " batch 3000 loss: 0.31074388507939876\n",
      " batch 4000 loss: 0.30035485345928464\n",
      " batch 5000 loss: 0.3022793189761724\n",
      " batch 6000 loss: 0.2990907435883564\n",
      " batch 7000 loss: 0.3081842132105521\n",
      " batch 8000 loss: 0.3113479313054195\n",
      " batch 9000 loss: 0.29246065829807777\n",
      " batch 10000 loss: 0.29347085486337166\n",
      " batch 11000 loss: 0.3089590744117195\n",
      " batch 12000 loss: 0.2979382919056752\n",
      " batch 13000 loss: 0.27982586524692304\n",
      " batch 14000 loss: 0.31541567636332185\n",
      " batch 15000 loss: 0.297173707573842\n",
      "LOSS train 0.297173707573842 valid 0.35880208015441895\n",
      "EPOCH 4\n",
      " batch 1000 loss: 0.28007419021012175\n",
      " batch 2000 loss: 0.2841478447507834\n",
      " batch 3000 loss: 0.2702042152569229\n",
      " batch 4000 loss: 0.2648019396700438\n",
      " batch 5000 loss: 0.29019116524271704\n",
      " batch 6000 loss: 0.3012522768218332\n",
      " batch 7000 loss: 0.28122577781375\n",
      " batch 8000 loss: 0.2597823919958041\n",
      " batch 9000 loss: 0.2790391664596973\n",
      " batch 10000 loss: 0.2878904949462958\n",
      " batch 11000 loss: 0.29117026040914606\n",
      " batch 12000 loss: 0.3014209887710822\n",
      " batch 13000 loss: 0.27467369006919035\n",
      " batch 14000 loss: 0.3053269638926795\n",
      " batch 15000 loss: 0.2640177806774445\n",
      "LOSS train 0.2640177806774445 valid 0.33297109603881836\n",
      "EPOCH 5\n",
      " batch 1000 loss: 0.25800588595234875\n",
      " batch 2000 loss: 0.28180268165142297\n",
      " batch 3000 loss: 0.24415492093039665\n",
      " batch 4000 loss: 0.2547222062660221\n",
      " batch 5000 loss: 0.28549087479249285\n",
      " batch 6000 loss: 0.2734396648898173\n",
      " batch 7000 loss: 0.25143381662933095\n",
      " batch 8000 loss: 0.26603276835624273\n",
      " batch 9000 loss: 0.2734131964925546\n",
      " batch 10000 loss: 0.2688249423810048\n",
      " batch 11000 loss: 0.27093010440340004\n",
      " batch 12000 loss: 0.28150122510475556\n",
      " batch 13000 loss: 0.27814316229472025\n",
      " batch 14000 loss: 0.2610784416458164\n",
      " batch 15000 loss: 0.27460218369924405\n",
      "LOSS train 0.27460218369924405 valid 0.3150368630886078\n"
     ]
    }
   ],
   "source": [
    "EPOCHS = 5\n",
    "best_vloss = 1_000_000.\n",
    "\n",
    "for epoch in range(EPOCHS):\n",
    "    print('EPOCH {}'.format(epoch_number + 1))\n",
    "    \n",
    "    #Make sure gradient tracking is on, and do a pass over the data\n",
    "    model.train(True)\n",
    "    avg_loss = train_one_epoch(epoch_number, writer)\n",
    "    \n",
    "    #To do reporting gradients do not need to be on\n",
    "    model.train(False)\n",
    "    \n",
    "    #Pull batches fron validation data to validate\n",
    "    running_vloss = 0\n",
    "    for i, vdata in enumerate(validation_loader):\n",
    "        vinputs, vlabels = vdata\n",
    "        vinputs, vlabels = vinputs.to(device), vlabels.to(device)\n",
    "        voutputs = model(vinputs)\n",
    "        vloss = loss_fn(voutputs, vlabels)\n",
    "        running_vloss += vloss\n",
    "    \n",
    "    avg_vloss = running_vloss / (i+1)\n",
    "    print('LOSS train {} valid {}'.format(avg_loss, avg_vloss))\n",
    "    \n",
    "    ##Log the runnig loss averaged per batch for both training and validation\n",
    "    writer.add_scalars('Training vs. Validation Loss',\n",
    "                      {'Training': avg_loss, 'Validation': avg_vloss},\n",
    "                      epoch_number + 1)\n",
    "    writer.flush()\n",
    "    \n",
    "    # Track best performance, and save the model's state\n",
    "    if avg_vloss < best_vloss:\n",
    "        best_vloss = avg_vloss\n",
    "        model_path = 'model_{}_{}'.format(timestamp, epoch_number)\n",
    "        torch.save(model.state_dict(), model_path)\n",
    "        \n",
    "    epoch_number += 1\n"
   ]
  },
  {
   "cell_type": "code",
   "execution_count": 24,
   "id": "023cd906",
   "metadata": {},
   "outputs": [
    {
     "ename": "NameError",
     "evalue": "name 'PATH' is not defined",
     "output_type": "error",
     "traceback": [
      "\u001b[0;31m---------------------------------------------------------------------------\u001b[0m",
      "\u001b[0;31mNameError\u001b[0m                                 Traceback (most recent call last)",
      "Cell \u001b[0;32mIn [24], line 3\u001b[0m\n\u001b[1;32m      1\u001b[0m \u001b[38;5;66;03m#To load the saved version of the model\u001b[39;00m\n\u001b[1;32m      2\u001b[0m saved_model \u001b[38;5;241m=\u001b[39m GarmentClassifier()\n\u001b[0;32m----> 3\u001b[0m saved_model\u001b[38;5;241m.\u001b[39mload_state_dict(torch\u001b[38;5;241m.\u001b[39mload(\u001b[43mPATH\u001b[49m))\n",
      "\u001b[0;31mNameError\u001b[0m: name 'PATH' is not defined"
     ]
    }
   ],
   "source": [
    "#To load the saved version of the model\n",
    "saved_model = GarmentClassifier()\n",
    "saved_model.load_state_dict(torch.load(./model_2022))"
   ]
  }
 ],
 "metadata": {
  "kernelspec": {
   "display_name": "Python 3 (ipykernel)",
   "language": "python",
   "name": "python3"
  },
  "language_info": {
   "codemirror_mode": {
    "name": "ipython",
    "version": 3
   },
   "file_extension": ".py",
   "mimetype": "text/x-python",
   "name": "python",
   "nbconvert_exporter": "python",
   "pygments_lexer": "ipython3",
   "version": "3.8.10"
  }
 },
 "nbformat": 4,
 "nbformat_minor": 5
}
