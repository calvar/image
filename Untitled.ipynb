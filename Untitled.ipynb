{
 "cells": [
  {
   "cell_type": "markdown",
   "id": "ea53142f",
   "metadata": {},
   "source": [
    "https://pytorch.org/tutorials/beginner/introyt/trainingyt.html <br>\n",
    "Instalar: torch, torchvision, tensorboard, matplotlib"
   ]
  },
  {
   "cell_type": "code",
   "execution_count": 26,
   "id": "706ccdeb",
   "metadata": {},
   "outputs": [],
   "source": [
    "import numpy as np\n",
    "import matplotlib.pyplot as plt\n",
    "\n",
    "import torch\n",
    "import torchvision\n",
    "from torchvision.transforms import Compose, Normalize, ToTensor\n",
    "from torchvision.datasets import FashionMNIST\n",
    "from torch.utils.data import DataLoader\n",
    "from torch.utils.tensorboard import SummaryWriter\n",
    "\n",
    "import torch.nn as nn\n",
    "import torch.nn.functional as F"
   ]
  },
  {
   "cell_type": "code",
   "execution_count": 10,
   "id": "7f6011a4",
   "metadata": {},
   "outputs": [],
   "source": [
    "#Define a transform object that takes the data to pytorch tensor form and normalizes it\n",
    "transform = Compose( [ToTensor(), Normalize((0.5,),(0.5,))] );"
   ]
  },
  {
   "cell_type": "code",
   "execution_count": 13,
   "id": "7c726f14",
   "metadata": {},
   "outputs": [
    {
     "name": "stdout",
     "output_type": "stream",
     "text": [
      "Downloading http://fashion-mnist.s3-website.eu-central-1.amazonaws.com/train-images-idx3-ubyte.gz\n",
      "Downloading http://fashion-mnist.s3-website.eu-central-1.amazonaws.com/train-images-idx3-ubyte.gz to .data/FashionMNIST/raw/train-images-idx3-ubyte.gz\n"
     ]
    },
    {
     "name": "stderr",
     "output_type": "stream",
     "text": [
      "100.0%\n"
     ]
    },
    {
     "name": "stdout",
     "output_type": "stream",
     "text": [
      "Extracting .data/FashionMNIST/raw/train-images-idx3-ubyte.gz to .data/FashionMNIST/raw\n",
      "\n",
      "Downloading http://fashion-mnist.s3-website.eu-central-1.amazonaws.com/train-labels-idx1-ubyte.gz\n",
      "Downloading http://fashion-mnist.s3-website.eu-central-1.amazonaws.com/train-labels-idx1-ubyte.gz to .data/FashionMNIST/raw/train-labels-idx1-ubyte.gz\n"
     ]
    },
    {
     "name": "stderr",
     "output_type": "stream",
     "text": [
      "100.0%\n"
     ]
    },
    {
     "name": "stdout",
     "output_type": "stream",
     "text": [
      "Extracting .data/FashionMNIST/raw/train-labels-idx1-ubyte.gz to .data/FashionMNIST/raw\n",
      "\n",
      "Downloading http://fashion-mnist.s3-website.eu-central-1.amazonaws.com/t10k-images-idx3-ubyte.gz\n",
      "Downloading http://fashion-mnist.s3-website.eu-central-1.amazonaws.com/t10k-images-idx3-ubyte.gz to .data/FashionMNIST/raw/t10k-images-idx3-ubyte.gz\n"
     ]
    },
    {
     "name": "stderr",
     "output_type": "stream",
     "text": [
      "100.0%\n"
     ]
    },
    {
     "name": "stdout",
     "output_type": "stream",
     "text": [
      "Extracting .data/FashionMNIST/raw/t10k-images-idx3-ubyte.gz to .data/FashionMNIST/raw\n",
      "\n",
      "Downloading http://fashion-mnist.s3-website.eu-central-1.amazonaws.com/t10k-labels-idx1-ubyte.gz\n",
      "Downloading http://fashion-mnist.s3-website.eu-central-1.amazonaws.com/t10k-labels-idx1-ubyte.gz to .data/FashionMNIST/raw/t10k-labels-idx1-ubyte.gz\n"
     ]
    },
    {
     "name": "stderr",
     "output_type": "stream",
     "text": [
      "100.0%\n"
     ]
    },
    {
     "name": "stdout",
     "output_type": "stream",
     "text": [
      "Extracting .data/FashionMNIST/raw/t10k-labels-idx1-ubyte.gz to .data/FashionMNIST/raw\n",
      "\n"
     ]
    }
   ],
   "source": [
    "#Get the fashion mnist set of images, and create the train and test data sets\n",
    "training_set = FashionMNIST('.data', train=True, transform=transform, download=True);\n",
    "validation_set = FashionMNIST('.data', train=False, transform=transform, download=True);"
   ]
  },
  {
   "cell_type": "code",
   "execution_count": 16,
   "id": "1b9379cf",
   "metadata": {},
   "outputs": [],
   "source": [
    "#Prepare batches that update at every epoch for training. Use multiprocessing\n",
    "training_loader = DataLoader(training_set, batch_size=4, shuffle=True, num_workers=2);\n",
    "valiation_loader = DataLoader(validation_set, batch_size=4, shuffle=False, num_workers=2);"
   ]
  },
  {
   "cell_type": "code",
   "execution_count": 17,
   "id": "99a71a61",
   "metadata": {},
   "outputs": [],
   "source": [
    "#Define class labels\n",
    "classes = ('T-shirt/top', 'Trouser', 'Pullover', 'Dress', 'Coat', 'Sandal', 'Shirt', 'Sneaker', 'Bag', 'Ankle Boot');"
   ]
  },
  {
   "cell_type": "code",
   "execution_count": 19,
   "id": "7d0bab9b",
   "metadata": {},
   "outputs": [
    {
     "name": "stdout",
     "output_type": "stream",
     "text": [
      "Training set has 60000 instances\n",
      "Validation set has 10000 instances\n"
     ]
    }
   ],
   "source": [
    "#Report split sizes\n",
    "print('Training set has {} instances'.format(len(training_set)));\n",
    "print('Validation set has {} instances'.format(len(validation_set)));"
   ]
  },
  {
   "cell_type": "markdown",
   "id": "76aef8f0",
   "metadata": {},
   "source": [
    "## Visualization"
   ]
  },
  {
   "cell_type": "code",
   "execution_count": 23,
   "id": "dac55201",
   "metadata": {},
   "outputs": [],
   "source": [
    "#Helper function for inline image display\n",
    "def matplotlib_imshow(img, one_channel=False):\n",
    "    if one_channel:\n",
    "        img = img.mean(dim=0)\n",
    "    img = img / 2 + 0.5\n",
    "    npimg = img.numpy()\n",
    "    if one_channel:\n",
    "        plt.imshow(npimg, cmap=\"Greys\")\n",
    "    else:\n",
    "        plt.imshow(np.transpose(npimg, (1,2,0)))"
   ]
  },
  {
   "cell_type": "code",
   "execution_count": 24,
   "id": "d735a02f",
   "metadata": {},
   "outputs": [],
   "source": [
    "#Create an iterator to go through the training data\n",
    "dataiter = iter(training_loader);\n",
    "#Take the next minibatch of data\n",
    "images, labels = dataiter.next(); "
   ]
  },
  {
   "cell_type": "code",
   "execution_count": 25,
   "id": "3322c403",
   "metadata": {},
   "outputs": [
    {
     "name": "stdout",
     "output_type": "stream",
     "text": [
      "Bag Pullover Bag Ankle Boot\n"
     ]
    },
    {
     "data": {
      "image/png": "[encoded data removed]",
      "text/plain": [
       "<Figure size 640x480 with 1 Axes>"
      ]
     },
     "metadata": {},
     "output_type": "display_data"
    }
   ],
   "source": [
    "#Create a grid from the images and show them\n",
    "img_grid = torchvision.utils.make_grid(images);\n",
    "matplotlib_imshow(img_grid, one_channel=True);\n",
    "print(' '.join(classes[labels[j]] for j in range(4)));"
   ]
  },
  {
   "cell_type": "markdown",
   "id": "3ba1f8f3",
   "metadata": {},
   "source": [
    "## The model"
   ]
  },
  {
   "cell_type": "code",
   "execution_count": null,
   "id": "59883993",
   "metadata": {},
   "outputs": [],
   "source": [
    "#pytorch models inherit from torch.nn.Module\n",
    "class GarmentClassifier(nn.Module):\n",
    "    super(GarmentClassifier, self).__init__()\n",
    "    self.conv1 = nn.Conv2d(1, 6, 5)"
   ]
  }
 ],
 "metadata": {
  "kernelspec": {
   "display_name": "Python 3 (ipykernel)",
   "language": "python",
   "name": "python3"
  },
  "language_info": {
   "codemirror_mode": {
    "name": "ipython",
    "version": 3
   },
   "file_extension": ".py",
   "mimetype": "text/x-python",
   "name": "python",
   "nbconvert_exporter": "python",
   "pygments_lexer": "ipython3",
   "version": "3.8.10"
  }
 },
 "nbformat": 4,
 "nbformat_minor": 5
}
