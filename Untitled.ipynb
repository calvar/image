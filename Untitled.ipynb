{
 "cells": [
  {
   "cell_type": "markdown",
   "id": "a3ba87e7",
   "metadata": {},
   "source": [
    "https://pytorch.org/tutorials/beginner/introyt/trainingyt.html <br>\n",
    "Instalar: torch, torchvision, tensorboard, matplotlib"
   ]
  },
  {
   "cell_type": "code",
   "execution_count": 1,
   "id": "6c27b783",
   "metadata": {},
   "outputs": [],
   "source": [
    "import numpy as np\n",
    "import matplotlib.pyplot as plt\n",
    "\n",
    "import torch\n",
    "import torchvision\n",
    "from torchvision.transforms import Compose, Normalize, ToTensor\n",
    "from torchvision.datasets import FashionMNIST\n",
    "from torch.utils.data import DataLoader\n",
    "from torch.utils.tensorboard import SummaryWriter\n",
    "\n",
    "import torch.nn as nn\n",
    "import torch.nn.functional as F"
   ]
  },
  {
   "cell_type": "code",
   "execution_count": 2,
   "id": "d9de4485",
   "metadata": {},
   "outputs": [],
   "source": [
    "#Define a transform object that takes the data to pytorch tensor form and normalizes it\n",
    "transform = Compose( [ToTensor(), Normalize((0.5,),(0.5,))] );"
   ]
  },
  {
   "cell_type": "code",
   "execution_count": 3,
   "id": "72d8135a",
   "metadata": {},
   "outputs": [
    {
     "name": "stdout",
     "output_type": "stream",
     "text": [
      "Downloading http://fashion-mnist.s3-website.eu-central-1.amazonaws.com/train-images-idx3-ubyte.gz\n",
      "Downloading http://fashion-mnist.s3-website.eu-central-1.amazonaws.com/train-images-idx3-ubyte.gz to .data/FashionMNIST/raw/train-images-idx3-ubyte.gz\n"
     ]
    },
    {
     "name": "stderr",
     "output_type": "stream",
     "text": [
      "100.0%\n"
     ]
    },
    {
     "name": "stdout",
     "output_type": "stream",
     "text": [
      "Extracting .data/FashionMNIST/raw/train-images-idx3-ubyte.gz to .data/FashionMNIST/raw\n",
      "\n",
      "Downloading http://fashion-mnist.s3-website.eu-central-1.amazonaws.com/train-labels-idx1-ubyte.gz\n",
      "Downloading http://fashion-mnist.s3-website.eu-central-1.amazonaws.com/train-labels-idx1-ubyte.gz to .data/FashionMNIST/raw/train-labels-idx1-ubyte.gz\n"
     ]
    },
    {
     "name": "stderr",
     "output_type": "stream",
     "text": [
      "100.0%\n"
     ]
    },
    {
     "name": "stdout",
     "output_type": "stream",
     "text": [
      "Extracting .data/FashionMNIST/raw/train-labels-idx1-ubyte.gz to .data/FashionMNIST/raw\n",
      "\n",
      "Downloading http://fashion-mnist.s3-website.eu-central-1.amazonaws.com/t10k-images-idx3-ubyte.gz\n",
      "Downloading http://fashion-mnist.s3-website.eu-central-1.amazonaws.com/t10k-images-idx3-ubyte.gz to .data/FashionMNIST/raw/t10k-images-idx3-ubyte.gz\n"
     ]
    },
    {
     "name": "stderr",
     "output_type": "stream",
     "text": [
      "100.0%\n"
     ]
    },
    {
     "name": "stdout",
     "output_type": "stream",
     "text": [
      "Extracting .data/FashionMNIST/raw/t10k-images-idx3-ubyte.gz to .data/FashionMNIST/raw\n",
      "\n",
      "Downloading http://fashion-mnist.s3-website.eu-central-1.amazonaws.com/t10k-labels-idx1-ubyte.gz\n",
      "Downloading http://fashion-mnist.s3-website.eu-central-1.amazonaws.com/t10k-labels-idx1-ubyte.gz to .data/FashionMNIST/raw/t10k-labels-idx1-ubyte.gz\n"
     ]
    },
    {
     "name": "stderr",
     "output_type": "stream",
     "text": [
      "\r",
      "100.0%"
     ]
    },
    {
     "name": "stdout",
     "output_type": "stream",
     "text": [
      "Extracting .data/FashionMNIST/raw/t10k-labels-idx1-ubyte.gz to .data/FashionMNIST/raw\n",
      "\n"
     ]
    },
    {
     "name": "stderr",
     "output_type": "stream",
     "text": [
      "\n"
     ]
    }
   ],
   "source": [
    "#Get the fashion mnist set of images, and create the train and test data sets\n",
    "training_set = FashionMNIST('.data', train=True, transform=transform, download=True);\n",
    "validation_set = FashionMNIST('.data', train=False, transform=transform, download=True);"
   ]
  },
  {
   "cell_type": "code",
   "execution_count": 4,
   "id": "3ce26af5",
   "metadata": {},
   "outputs": [],
   "source": [
    "#Prepare batches that update at every epoch for training. Use multiprocessing\n",
    "training_loader = DataLoader(training_set, batch_size=4, shuffle=True, num_workers=2);\n",
    "valiation_loader = DataLoader(validation_set, batch_size=4, shuffle=False, num_workers=2);"
   ]
  },
  {
   "cell_type": "code",
   "execution_count": 5,
   "id": "5262c667",
   "metadata": {},
   "outputs": [],
   "source": [
    "#Define class labels\n",
    "classes = ('T-shirt/top', 'Trouser', 'Pullover', 'Dress', 'Coat', 'Sandal', 'Shirt', 'Sneaker', 'Bag', 'Ankle Boot');"
   ]
  },
  {
   "cell_type": "code",
   "execution_count": 6,
   "id": "5c6ef745",
   "metadata": {},
   "outputs": [
    {
     "name": "stdout",
     "output_type": "stream",
     "text": [
      "Training set has 60000 instances\n",
      "Validation set has 10000 instances\n"
     ]
    }
   ],
   "source": [
    "#Report split sizes\n",
    "print('Training set has {} instances'.format(len(training_set)));\n",
    "print('Validation set has {} instances'.format(len(validation_set)));"
   ]
  },
  {
   "cell_type": "markdown",
   "id": "68c49fb6",
   "metadata": {},
   "source": [
    "## Visualization"
   ]
  },
  {
   "cell_type": "code",
   "execution_count": 7,
   "id": "7dbeb96d",
   "metadata": {},
   "outputs": [],
   "source": [
    "#Helper function for inline image display\n",
    "def matplotlib_imshow(img, one_channel=False):\n",
    "    if one_channel:\n",
    "        img = img.mean(dim=0)\n",
    "    img = img / 2 + 0.5\n",
    "    npimg = img.numpy()\n",
    "    if one_channel:\n",
    "        plt.imshow(npimg, cmap=\"Greys\")\n",
    "    else:\n",
    "        plt.imshow(np.transpose(npimg, (1,2,0)))"
   ]
  },
  {
   "cell_type": "code",
   "execution_count": 8,
   "id": "5a3a0e22",
   "metadata": {},
   "outputs": [],
   "source": [
    "#Create an iterator to go through the training data\n",
    "dataiter = iter(training_loader);\n",
    "#Take the next minibatch of data\n",
    "images, labels = dataiter.next(); "
   ]
  },
  {
   "cell_type": "code",
   "execution_count": 9,
   "id": "a8c6d30d",
   "metadata": {},
   "outputs": [
    {
     "name": "stdout",
     "output_type": "stream",
     "text": [
      "Bag Bag Sandal Pullover\n"
     ]
    },
    {
     "data": {
      "image/png": "[encoded data removed]",
      "text/plain": [
       "<Figure size 640x480 with 1 Axes>"
      ]
     },
     "metadata": {},
     "output_type": "display_data"
    }
   ],
   "source": [
    "#Create a grid from the images and show them\n",
    "img_grid = torchvision.utils.make_grid(images);\n",
    "matplotlib_imshow(img_grid, one_channel=True);\n",
    "print(' '.join(classes[labels[j]] for j in range(4)));"
   ]
  },
  {
   "cell_type": "markdown",
   "id": "2cdd786c",
   "metadata": {},
   "source": [
    "## The model"
   ]
  },
  {
   "cell_type": "code",
   "execution_count": 12,
   "id": "8c8a12b8",
   "metadata": {},
   "outputs": [],
   "source": [
    "#pytorch models inherit from torch.nn.Module\n",
    "class GarmentClassifier(nn.Module):\n",
    "    def __init__(self):\n",
    "        super(GarmentClassifier, self).__init__()\n",
    "        self.conv1 = nn.Conv2d(1, 6, 5) #Add a convolution layer thet resives a single layer as imput (grayscale), uses 6 filters on it, and each filter has 5x5 size\n",
    "        self.pool = nn.MaxPool2d(2,2) #Pooling layer. Operation to get the max value over 2x2 (stride 2) sections the filter and reduce the number of features\n",
    "        self.conv2 = nn.Conv2d(6, 16, 5) #Second convolution layer (6 chanel imput, from the 6 filters of previous layer, 16 filters, and 5x5 filter size)\n",
    "        self.fc1 = nn.Linear(16*4*4, 120) #1st linear layer to classify the compressed features (why is imput 16*4*4?)\n",
    "        self.fc2 = nn.Linear(120, 84) #2nd linear layer\n",
    "        self.fc3 = nn.Linear(84, 10) #3rd linear layer. output is size 10 because there are 10 classes\n",
    "        \n",
    "    # Forward passing of the data\n",
    "    def forward(self, x):\n",
    "        x = self.pool(F.relu(self.conv1(x))) # pass x input to conv layer 1 and apply relu to the result, then do pooling to reduce number of features?\n",
    "        x = self.pool(F.relu(self.conv2(x))) # then do the same using conv layer 2?\n",
    "        x = x.view(-1, 16*4*4) # flatten x from 2d to 1d??\n",
    "        x = F.relu(self.fc1(x)) #Apply relu to output of linear layer 1\n",
    "        x = F.relu(self.fc2(x)) #Apply relu to output of linear layer 2\n",
    "        x = self.fc3(x) #Pass output through layer 3 and get final result\n",
    "        return x\n"
   ]
  },
  {
   "cell_type": "code",
   "execution_count": 13,
   "id": "fcbca866",
   "metadata": {},
   "outputs": [],
   "source": [
    "model = GarmentClassifier()"
   ]
  },
  {
   "cell_type": "markdown",
   "id": "fd9f29b0",
   "metadata": {},
   "source": [
    "## Loss function"
   ]
  },
  {
   "cell_type": "code",
   "execution_count": 14,
   "id": "d70428dc",
   "metadata": {},
   "outputs": [],
   "source": [
    "## use the log loss as cost function\n",
    "loss_fn = nn.CrossEntropyLoss()"
   ]
  },
  {
   "cell_type": "code",
   "execution_count": 15,
   "id": "8506f710",
   "metadata": {},
   "outputs": [
    {
     "name": "stdout",
     "output_type": "stream",
     "text": [
      "tensor([[0.5644, 0.2656, 0.8880, 0.2195, 0.7594, 0.2031, 0.0497, 0.9325, 0.3175,\n",
      "         0.9611],\n",
      "        [0.5123, 0.7723, 0.6074, 0.2860, 0.8310, 0.0042, 0.7019, 0.9936, 0.5164,\n",
      "         0.5267],\n",
      "        [0.8985, 0.4530, 0.0706, 0.5490, 0.7468, 0.2955, 0.2526, 0.1503, 0.2644,\n",
      "         0.5135],\n",
      "        [0.2191, 0.6014, 0.9563, 0.8343, 0.4475, 0.5370, 0.7477, 0.1496, 0.0552,\n",
      "         0.5611]])\n",
      "tensor([1, 5, 3, 7])\n",
      "Total loss for this batxh: 2.6056947708129883\n"
     ]
    }
   ],
   "source": [
    "##Test the loss function##\n",
    "#Pass data in batches of 4\n",
    "#Returns 10 lists of 4 random numbers between 0 and 1 as a 4x10 tensor, to test confidence on each of the 10 classes\n",
    "dummy_outputs = torch.rand(4, 10)\n",
    "# Represents the correct class among the possible 10\n",
    "dummy_labels = torch.tensor([1, 5, 3, 7])\n",
    "\n",
    "print(dummy_outputs)\n",
    "print(dummy_labels)\n",
    "\n",
    "loss = loss_fn(dummy_outputs, dummy_labels)\n",
    "print('Total loss for this batxh: {}'.format(loss.item()))"
   ]
  },
  {
   "cell_type": "markdown",
   "id": "855b5e0a",
   "metadata": {},
   "source": [
    "## Optimizer"
   ]
  },
  {
   "cell_type": "code",
   "execution_count": 16,
   "id": "791a1ebe",
   "metadata": {},
   "outputs": [],
   "source": [
    "#Stochastic gradient descent optimizer\n",
    "optimizer = torch.optim.SGD(model.parameters(), lr=0.001, momentum=0.9)"
   ]
  },
  {
   "cell_type": "markdown",
   "id": "2c792a7b",
   "metadata": {},
   "source": [
    "## Training loop"
   ]
  },
  {
   "cell_type": "code",
   "execution_count": null,
   "id": "fb14913d",
   "metadata": {},
   "outputs": [],
   "source": []
  }
 ],
 "metadata": {
  "kernelspec": {
   "display_name": "Python 3 (ipykernel)",
   "language": "python",
   "name": "python3"
  },
  "language_info": {
   "codemirror_mode": {
    "name": "ipython",
    "version": 3
   },
   "file_extension": ".py",
   "mimetype": "text/x-python",
   "name": "python",
   "nbconvert_exporter": "python",
   "pygments_lexer": "ipython3",
   "version": "3.8.10"
  }
 },
 "nbformat": 4,
 "nbformat_minor": 5
}
