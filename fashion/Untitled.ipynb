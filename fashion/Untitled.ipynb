{
 "cells": [
  {
   "cell_type": "markdown",
   "id": "a3ba87e7",
   "metadata": {},
   "source": [
    "https://pytorch.org/tutorials/beginner/introyt/trainingyt.html <br>\n",
    "Instalar: torch, torchvision, tensorboard, matplotlib"
   ]
  },
  {
   "cell_type": "code",
   "execution_count": 2,
   "id": "6c27b783",
   "metadata": {},
   "outputs": [],
   "source": [
    "import numpy as np\n",
    "import matplotlib.pyplot as plt\n",
    "from datetime import datetime\n",
    "\n",
    "import torch\n",
    "import torchvision\n",
    "from torchvision.transforms import Compose, Normalize, ToTensor\n",
    "from torchvision.datasets import FashionMNIST\n",
    "from torch.utils.data import DataLoader\n",
    "from torch.utils.tensorboard import SummaryWriter\n",
    "\n",
    "import torch.nn as nn\n",
    "import torch.nn.functional as F"
   ]
  },
  {
   "cell_type": "code",
   "execution_count": 3,
   "id": "d21ef652",
   "metadata": {},
   "outputs": [
    {
     "name": "stdout",
     "output_type": "stream",
     "text": [
      "Using cuda device\n"
     ]
    }
   ],
   "source": [
    "device = 'cuda' if torch.cuda.is_available() else 'cpu'\n",
    "print(f\"Using {device} device\")"
   ]
  },
  {
   "cell_type": "code",
   "execution_count": 4,
   "id": "31b3df19",
   "metadata": {},
   "outputs": [],
   "source": [
    "#torch.multiprocessing.set_sharing_strategy('file_system')"
   ]
  },
  {
   "cell_type": "code",
   "execution_count": 5,
   "id": "d9de4485",
   "metadata": {},
   "outputs": [],
   "source": [
    "#Define a transform object that takes the data to pytorch tensor form and normalizes it\n",
    "transform = Compose( [ToTensor(), Normalize((0.5,),(0.5,))] );"
   ]
  },
  {
   "cell_type": "code",
   "execution_count": 6,
   "id": "72d8135a",
   "metadata": {},
   "outputs": [],
   "source": [
    "#Get the fashion mnist set of images, and create the train and test data sets\n",
    "training_set = FashionMNIST('./data', train=True, transform=transform, download=True);\n",
    "validation_set = FashionMNIST('./data', train=False, transform=transform, download=True);"
   ]
  },
  {
   "cell_type": "code",
   "execution_count": 7,
   "id": "3ce26af5",
   "metadata": {},
   "outputs": [],
   "source": [
    "#Prepare batches that update at every epoch for training. Use multiprocessing\n",
    "training_loader = DataLoader(training_set, batch_size=4, shuffle=True, num_workers=4);\n",
    "validation_loader = DataLoader(validation_set, batch_size=4, shuffle=False, num_workers=4);"
   ]
  },
  {
   "cell_type": "code",
   "execution_count": 8,
   "id": "5262c667",
   "metadata": {},
   "outputs": [],
   "source": [
    "#Define class labels\n",
    "classes = ('T-shirt/top', 'Trouser', 'Pullover', 'Dress', 'Coat', 'Sandal', 'Shirt', 'Sneaker', 'Bag', 'Ankle Boot');"
   ]
  },
  {
   "cell_type": "code",
   "execution_count": 9,
   "id": "5c6ef745",
   "metadata": {},
   "outputs": [
    {
     "name": "stdout",
     "output_type": "stream",
     "text": [
      "Training set has 60000 instances\n",
      "Validation set has 10000 instances\n"
     ]
    }
   ],
   "source": [
    "#Report split sizes\n",
    "print('Training set has {} instances'.format(len(training_set)));\n",
    "print('Validation set has {} instances'.format(len(validation_set)));"
   ]
  },
  {
   "cell_type": "markdown",
   "id": "68c49fb6",
   "metadata": {},
   "source": [
    "## Visualization"
   ]
  },
  {
   "cell_type": "code",
   "execution_count": 10,
   "id": "7dbeb96d",
   "metadata": {},
   "outputs": [],
   "source": [
    "#Helper function for inline image display\n",
    "def matplotlib_imshow(img, one_channel=False):\n",
    "    if one_channel:\n",
    "        img = img.mean(dim=0)\n",
    "    img = img / 2 + 0.5\n",
    "    npimg = img.numpy()\n",
    "    if one_channel:\n",
    "        plt.imshow(npimg, cmap=\"Greys\")\n",
    "    else:\n",
    "        plt.imshow(np.transpose(npimg, (1,2,0)))"
   ]
  },
  {
   "cell_type": "code",
   "execution_count": 11,
   "id": "5a3a0e22",
   "metadata": {},
   "outputs": [],
   "source": [
    "#Create an iterator to go through the training data\n",
    "dataiter = iter(training_loader);\n",
    "#Take the next minibatch of data\n",
    "images, labels = dataiter.next(); "
   ]
  },
  {
   "cell_type": "code",
   "execution_count": 15,
   "id": "bcc4c095",
   "metadata": {},
   "outputs": [
    {
     "data": {
      "text/plain": [
       "torch.Size([4, 1, 28, 28])"
      ]
     },
     "execution_count": 15,
     "metadata": {},
     "output_type": "execute_result"
    }
   ],
   "source": [
    "images.shape"
   ]
  },
  {
   "cell_type": "code",
   "execution_count": 11,
   "id": "a8c6d30d",
   "metadata": {},
   "outputs": [
    {
     "name": "stdout",
     "output_type": "stream",
     "text": [
      "Ankle Boot Dress Coat Ankle Boot\n"
     ]
    },
    {
     "data": {
      "image/png": "[encoded data removed]",
      "text/plain": [
       "<Figure size 640x480 with 1 Axes>"
      ]
     },
     "metadata": {},
     "output_type": "display_data"
    }
   ],
   "source": [
    "#Create a grid from the images and show them\n",
    "img_grid = torchvision.utils.make_grid(images);\n",
    "matplotlib_imshow(img_grid, one_channel=True);\n",
    "print(' '.join(classes[labels[j]] for j in range(4)));"
   ]
  },
  {
   "cell_type": "markdown",
   "id": "2cdd786c",
   "metadata": {},
   "source": [
    "## The model"
   ]
  },
  {
   "cell_type": "code",
   "execution_count": 12,
   "id": "8c8a12b8",
   "metadata": {},
   "outputs": [],
   "source": [
    "#pytorch models inherit from torch.nn.Module\n",
    "class GarmentClassifier(nn.Module):\n",
    "    def __init__(self):\n",
    "        super(GarmentClassifier, self).__init__()\n",
    "        self.conv1 = nn.Conv2d(1, 6, 5) #Add a convolution layer thet resives a single layer as imput (grayscale), uses 6 filters on it, and each filter has 5x5 size\n",
    "        self.pool = nn.MaxPool2d(2,2) #Pooling layer. Operation to get the max value over 2x2 (stride 2) sections the filter and reduce the number of features\n",
    "        self.conv2 = nn.Conv2d(6, 16, 5) #Second convolution layer (6 chanel imput, from the 6 filters of previous layer, 16 filters, and 5x5 filter size)\n",
    "        self.fc1 = nn.Linear(16*4*4, 120) #1st linear layer to classify the compressed features (why is imput 16*4*4?)\n",
    "        self.fc2 = nn.Linear(120, 84) #2nd linear layer\n",
    "        self.fc3 = nn.Linear(84, 10) #3rd linear layer. output is size 10 because there are 10 classes\n",
    "        \n",
    "    # Forward passing of the data\n",
    "    def forward(self, x):\n",
    "        x = self.pool(F.relu(self.conv1(x))) # pass x input to conv layer 1 and apply relu to the result, then do pooling to reduce number of features?\n",
    "        x = self.pool(F.relu(self.conv2(x))) # then do the same using conv layer 2?\n",
    "        x = x.view(-1, 16*4*4) # flatten x from 2d to 1d??\n",
    "        x = F.relu(self.fc1(x)) #Apply relu to output of linear layer 1\n",
    "        x = F.relu(self.fc2(x)) #Apply relu to output of linear layer 2\n",
    "        x = self.fc3(x) #Pass output through layer 3 and get final result\n",
    "        return x\n"
   ]
  },
  {
   "cell_type": "code",
   "execution_count": 13,
   "id": "fcbca866",
   "metadata": {},
   "outputs": [],
   "source": [
    "model = GarmentClassifier().to(device)"
   ]
  },
  {
   "cell_type": "markdown",
   "id": "fd9f29b0",
   "metadata": {},
   "source": [
    "## Loss function"
   ]
  },
  {
   "cell_type": "code",
   "execution_count": 14,
   "id": "d70428dc",
   "metadata": {},
   "outputs": [],
   "source": [
    "## use the log loss as cost function\n",
    "loss_fn = nn.CrossEntropyLoss()"
   ]
  },
  {
   "cell_type": "code",
   "execution_count": 15,
   "id": "8506f710",
   "metadata": {},
   "outputs": [
    {
     "name": "stdout",
     "output_type": "stream",
     "text": [
      "tensor([[0.2121, 0.9362, 0.5578, 0.7344, 0.3512, 0.6038, 0.4216, 0.5642, 0.3233,\n",
      "         0.0842],\n",
      "        [0.9853, 0.5706, 0.6851, 0.3900, 0.0514, 0.7254, 0.1338, 0.7979, 0.4026,\n",
      "         0.6414],\n",
      "        [0.2342, 0.1592, 0.3002, 0.1885, 0.3945, 0.5929, 0.9609, 0.9141, 0.7921,\n",
      "         0.1575],\n",
      "        [0.8892, 0.0035, 0.8286, 0.7205, 0.4870, 0.6235, 0.1152, 0.7101, 0.1267,\n",
      "         0.6128]])\n",
      "tensor([1, 5, 3, 7])\n",
      "Total loss for this batxh: 2.201442241668701\n"
     ]
    }
   ],
   "source": [
    "##Test the loss function##\n",
    "#Pass data in batches of 4\n",
    "#Returns 10 lists of 4 random numbers between 0 and 1 as a 4x10 tensor, to test confidence on each of the 10 classes\n",
    "dummy_outputs = torch.rand(4, 10)\n",
    "# Represents the correct class among the possible 10\n",
    "dummy_labels = torch.tensor([1, 5, 3, 7])\n",
    "\n",
    "print(dummy_outputs)\n",
    "print(dummy_labels)\n",
    "\n",
    "loss = loss_fn(dummy_outputs, dummy_labels)\n",
    "print('Total loss for this batch: {}'.format(loss.item()))"
   ]
  },
  {
   "cell_type": "markdown",
   "id": "855b5e0a",
   "metadata": {},
   "source": [
    "## Optimizer"
   ]
  },
  {
   "cell_type": "code",
   "execution_count": 16,
   "id": "791a1ebe",
   "metadata": {},
   "outputs": [],
   "source": [
    "#Stochastic gradient descent optimizer\n",
    "optimizer = torch.optim.SGD(model.parameters(), lr=0.001, momentum=0.9)"
   ]
  },
  {
   "cell_type": "markdown",
   "id": "2c792a7b",
   "metadata": {},
   "source": [
    "## Training loop\n",
    "- Get a batch of data from the Data Loader\n",
    "- Zero the optimizer's gradients\n",
    "- Gets predictions from the model for an imput batch\n",
    "- Computes the loss function for the prediction\n",
    "- Adjusts the model's weights with gradient descent\n",
    "- Reports the loss for every 1000 batches\n",
    "- Reports the average per-batch loss for the last 1000 batches for comparison to a validation run"
   ]
  },
  {
   "cell_type": "code",
   "execution_count": 17,
   "id": "fb14913d",
   "metadata": {},
   "outputs": [],
   "source": [
    "def train_one_epoch(epoch_index, tb_writer):\n",
    "    running_loss = 0\n",
    "    last_loss = 0\n",
    "    \n",
    "    #Use an enumeration istead of an iterator to track the batch index and do reporting\n",
    "    for i, data in enumerate(training_loader):\n",
    "        #training instances are input + label pairs\n",
    "        inputs, labels = data\n",
    "        inputs, labels = inputs.to(device), labels.to(device)\n",
    "        \n",
    "        #zero the gradients\n",
    "        optimizer.zero_grad()\n",
    "        \n",
    "        #make predictions fo this batch\n",
    "        outputs = model(inputs)\n",
    "        \n",
    "        #compute loss and its gradient\n",
    "        loss = loss_fn(outputs, labels)\n",
    "        loss.backward()\n",
    "        \n",
    "        #adjust the weights\n",
    "        optimizer.step()\n",
    "        \n",
    "        #gather data and report\n",
    "        running_loss += loss.item()\n",
    "        if i % 1000 == 999:\n",
    "            last_loss = running_loss / 1000 #loss per batch\n",
    "            print(' batch {} loss: {}'.format(i+1, last_loss))\n",
    "            tb_x = epoch_index * len(training_loader) + i + 1\n",
    "            tb_writer.add_scalar('Loss/train', last_loss, tb_x)\n",
    "            running_loss = 0\n",
    "            \n",
    "    return last_loss"
   ]
  },
  {
   "cell_type": "markdown",
   "id": "4e50fda8",
   "metadata": {},
   "source": [
    "## Main loop\n",
    "Before training an epoch there are a couple of things to do:\n",
    "- Validate by checking the relative loss on a set of validation data and report it\n",
    "- Save a copy of the model\n",
    "\n",
    "We use TensorBoard to do the reporting."
   ]
  },
  {
   "cell_type": "code",
   "execution_count": 18,
   "id": "5f6d2f50",
   "metadata": {},
   "outputs": [],
   "source": [
    "timestamp = datetime.now().strftime('%Y%m%d_%H%M%S')\n",
    "writer = SummaryWriter('runs/fashion_trainer_{}'.format(timestamp))\n",
    "epoch_number = 0"
   ]
  },
  {
   "cell_type": "code",
   "execution_count": 19,
   "id": "6480a378",
   "metadata": {},
   "outputs": [
    {
     "name": "stdout",
     "output_type": "stream",
     "text": [
      "EPOCH 1\n",
      " batch 1000 loss: 1.951608291476965\n",
      " batch 2000 loss: 0.9275175140351057\n",
      " batch 3000 loss: 0.7273635933492333\n",
      " batch 4000 loss: 0.6857061487929895\n",
      " batch 5000 loss: 0.6131813179627061\n",
      " batch 6000 loss: 0.5906636993456632\n",
      " batch 7000 loss: 0.5566314184907823\n",
      " batch 8000 loss: 0.5372800656049512\n",
      " batch 9000 loss: 0.5214024725520285\n",
      " batch 10000 loss: 0.4880351419025101\n",
      " batch 11000 loss: 0.49009572744584873\n",
      " batch 12000 loss: 0.47047942504368256\n",
      " batch 13000 loss: 0.44422325091611126\n",
      " batch 14000 loss: 0.45987637954414823\n",
      " batch 15000 loss: 0.4396483855495462\n",
      "LOSS train 0.4396483855495462 valid 0.4576929211616516\n",
      "EPOCH 2\n",
      " batch 1000 loss: 0.42819960145308866\n",
      " batch 2000 loss: 0.40572335118026237\n",
      " batch 3000 loss: 0.4200742274297081\n",
      " batch 4000 loss: 0.38785089648660503\n",
      " batch 5000 loss: 0.38698751975107004\n",
      " batch 6000 loss: 0.3783386030740221\n",
      " batch 7000 loss: 0.3850077346680337\n",
      " batch 8000 loss: 0.3982277583365794\n",
      " batch 9000 loss: 0.34711297449842093\n",
      " batch 10000 loss: 0.3784706562823776\n",
      " batch 11000 loss: 0.35876189746276943\n",
      " batch 12000 loss: 0.3652846461054869\n",
      " batch 13000 loss: 0.37730597505459446\n",
      " batch 14000 loss: 0.3491932212217362\n",
      " batch 15000 loss: 0.3668929495852208\n",
      "LOSS train 0.3668929495852208 valid 0.363424152135849\n",
      "EPOCH 3\n",
      " batch 1000 loss: 0.3431917488717736\n",
      " batch 2000 loss: 0.34000396360272134\n",
      " batch 3000 loss: 0.3279167556306638\n",
      " batch 4000 loss: 0.3352542790793086\n",
      " batch 5000 loss: 0.3331338833460759\n",
      " batch 6000 loss: 0.339859916015339\n",
      " batch 7000 loss: 0.31811468667195003\n",
      " batch 8000 loss: 0.3268750267761279\n",
      " batch 9000 loss: 0.3429549061650905\n",
      " batch 10000 loss: 0.32030400412267773\n",
      " batch 11000 loss: 0.320288529773552\n",
      " batch 12000 loss: 0.3263235406566091\n",
      " batch 13000 loss: 0.3422022464762558\n",
      " batch 14000 loss: 0.33419232943168753\n",
      " batch 15000 loss: 0.3116110963768879\n",
      "LOSS train 0.3116110963768879 valid 0.34689536690711975\n",
      "EPOCH 4\n",
      " batch 1000 loss: 0.29785151632421913\n",
      " batch 2000 loss: 0.2769491374724457\n",
      " batch 3000 loss: 0.30295026651452645\n",
      " batch 4000 loss: 0.33739887462718615\n",
      " batch 5000 loss: 0.29286998597070485\n",
      " batch 6000 loss: 0.3016045407330712\n",
      " batch 7000 loss: 0.3019717432425823\n",
      " batch 8000 loss: 0.31495278872818744\n",
      " batch 9000 loss: 0.3158758978989863\n",
      " batch 10000 loss: 0.29939161248719026\n",
      " batch 11000 loss: 0.2950510717381403\n",
      " batch 12000 loss: 0.29658684878703206\n",
      " batch 13000 loss: 0.2918304516763892\n",
      " batch 14000 loss: 0.3132117554534198\n",
      " batch 15000 loss: 0.2947089738971554\n",
      "LOSS train 0.2947089738971554 valid 0.3239870071411133\n",
      "EPOCH 5\n",
      " batch 1000 loss: 0.2768299646293017\n",
      " batch 2000 loss: 0.2849518780810031\n",
      " batch 3000 loss: 0.29603702991671527\n",
      " batch 4000 loss: 0.2643841199848321\n",
      " batch 5000 loss: 0.2869713845554088\n",
      " batch 6000 loss: 0.28187087963644264\n",
      " batch 7000 loss: 0.279682572806174\n",
      " batch 8000 loss: 0.2905564590933609\n",
      " batch 9000 loss: 0.2765028088636391\n",
      " batch 10000 loss: 0.27545533342043926\n",
      " batch 11000 loss: 0.27706064819429593\n",
      " batch 12000 loss: 0.30001511091920474\n",
      " batch 13000 loss: 0.258220723669298\n",
      " batch 14000 loss: 0.2812788018893334\n",
      " batch 15000 loss: 0.2913603611253784\n",
      "LOSS train 0.2913603611253784 valid 0.32045450806617737\n"
     ]
    }
   ],
   "source": [
    "EPOCHS = 5\n",
    "best_vloss = 1_000_000.\n",
    "\n",
    "for epoch in range(EPOCHS):\n",
    "    print('EPOCH {}'.format(epoch_number + 1))\n",
    "    \n",
    "    #Make sure gradient tracking is on, and do a pass over the data\n",
    "    model.train(True)\n",
    "    avg_loss = train_one_epoch(epoch_number, writer)\n",
    "    \n",
    "    #To do reporting gradients do not need to be on\n",
    "    model.train(False)\n",
    "    \n",
    "    #Pull batches fron validation data to validate\n",
    "    running_vloss = 0\n",
    "    for i, vdata in enumerate(validation_loader):\n",
    "        vinputs, vlabels = vdata\n",
    "        vinputs, vlabels = vinputs.to(device), vlabels.to(device)\n",
    "        voutputs = model(vinputs)\n",
    "        vloss = loss_fn(voutputs, vlabels)\n",
    "        running_vloss += vloss\n",
    "    \n",
    "    avg_vloss = running_vloss / (i+1)\n",
    "    print('LOSS train {} valid {}'.format(avg_loss, avg_vloss))\n",
    "    \n",
    "    ##Log the runnig loss averaged per batch for both training and validation\n",
    "    writer.add_scalars('Training vs. Validation Loss',\n",
    "                      {'Training': avg_loss, 'Validation': avg_vloss},\n",
    "                      epoch_number + 1)\n",
    "    writer.flush()\n",
    "    \n",
    "    # Track best performance, and save the model's state\n",
    "    if avg_vloss < best_vloss:\n",
    "        best_vloss = avg_vloss\n",
    "        model_path = 'model_{}_{}'.format(timestamp, epoch_number)\n",
    "        torch.save(model.state_dict(), model_path)\n",
    "        \n",
    "    epoch_number += 1\n"
   ]
  },
  {
   "cell_type": "markdown",
   "id": "f78c3bad",
   "metadata": {},
   "source": [
    "## Predict"
   ]
  },
  {
   "cell_type": "code",
   "execution_count": 20,
   "id": "fa2bcad2",
   "metadata": {},
   "outputs": [
    {
     "data": {
      "text/plain": [
       "<All keys matched successfully>"
      ]
     },
     "execution_count": 20,
     "metadata": {},
     "output_type": "execute_result"
    }
   ],
   "source": [
    "#To load the saved version of the model\n",
    "saved_model = GarmentClassifier()\n",
    "saved_model.load_state_dict(torch.load('./model_20220915_203847_4'))"
   ]
  },
  {
   "cell_type": "code",
   "execution_count": 21,
   "id": "77b8631a",
   "metadata": {},
   "outputs": [
    {
     "data": {
      "image/png": "[encoded data removed]",
      "text/plain": [
       "<Figure size 1000x1000 with 4 Axes>"
      ]
     },
     "metadata": {},
     "output_type": "display_data"
    }
   ],
   "source": [
    "imgs, label = next(iter(validation_loader))\n",
    "fig, ax = plt.subplots(4,1,figsize=(10,10))\n",
    "count = 0\n",
    "for img in imgs:\n",
    "    #print(img.shape)\n",
    "    npimg = img[0].numpy() / 2 + 0.5\n",
    "    #print(npimg.shape)\n",
    "    ax[count].imshow(npimg, cmap=\"Greys\")\n",
    "    count += 1"
   ]
  },
  {
   "cell_type": "code",
   "execution_count": 22,
   "id": "d91a183e",
   "metadata": {},
   "outputs": [
    {
     "name": "stdout",
     "output_type": "stream",
     "text": [
      "tensor([[ -2.1429,  -4.8371,  -4.4287,  -5.0371,  -4.9624,   4.7230,  -4.0712,\n",
      "           6.7861,   0.3977,  13.4786],\n",
      "        [ -0.1092,  -2.6957,  12.0830,  -2.3323,   6.1596,  -2.5262,   4.4185,\n",
      "          -6.2944,  -1.4605,  -4.8854],\n",
      "        [  2.9368,  25.9884,  -1.4896,   1.7077,   4.3552,  -6.4322,   2.4585,\n",
      "         -11.5940,  -2.0809, -15.6228],\n",
      "        [  2.8013,  24.1439,  -3.7177,   5.4292,   5.2264,  -7.8289,   1.5216,\n",
      "          -9.8917,  -3.8166, -13.7506]], grad_fn=<AddmmBackward0>)\n",
      "tensor([9, 3, 4, 9])\n"
     ]
    }
   ],
   "source": [
    "print(saved_model(imgs))\n",
    "print(labels)"
   ]
  }
 ],
 "metadata": {
  "kernelspec": {
   "display_name": "Python 3 (ipykernel)",
   "language": "python",
   "name": "python3"
  },
  "language_info": {
   "codemirror_mode": {
    "name": "ipython",
    "version": 3
   },
   "file_extension": ".py",
   "mimetype": "text/x-python",
   "name": "python",
   "nbconvert_exporter": "python",
   "pygments_lexer": "ipython3",
   "version": "3.8.10"
  }
 },
 "nbformat": 4,
 "nbformat_minor": 5
}
